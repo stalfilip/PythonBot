{
 "cells": [
  {
   "cell_type": "markdown",
   "metadata": {},
   "source": [
    "### Bid / Ask Ordrar - Dessa ligger bakom det som kallas “spread”\n",
    "---\n",
    "\n",
    "#### 1. Limit Order\n",
    "Denna typ av order sätter ett maximalt pris för ett köp (bid) eller ett minimipris för en försäljning (ask) och handlas endast när marknadspriset når det angivna priset.\n",
    "\n",
    "#### 2. Stop-Loss Order\n",
    "Denna order aktiveras när ett visst pris uppnås och blir sedan en marknadsorder. Den kan användas för att begränsa förluster eller för att garantera vinster.\n",
    "\n",
    "#### 3. Stop-Limit Order\n",
    "Detta är en kombination av en stop order och en limit order. När stoppriset nås, omvandlas ordern till en limit order.\n",
    "\n",
    "#### 4. Good-Till-Cancelled (GTC)\n",
    "Detta är en limit order som förblir öppen tills den antingen är fylld eller avbruten.\n",
    "\n",
    "#### 5. Immediate or Cancel (IOC)\n",
    "Denna typ av order måste fyllas omedelbart. Om ordern inte kan fyllas helt kommer den del som inte kan fyllas att avbrytas.\n",
    "\n",
    "#### 6. All-Or-None (AON)\n",
    "Detta är en limit order som endast fylls om hela ordervolymen är tillgänglig.\n",
    "\n",
    "#### 7. Day Order\n",
    "En order som förblir aktiv endast under den aktuella handelsdagen.\n",
    "\n",
    "### Marknadsordrar\n",
    "---\n",
    "\n",
    "#### 1. Market Order\n",
    "En enkel order för att köpa eller sälja omedelbart till rådande marknadspris.\n",
    "\n",
    "#### 2. Market-on-Close (MOC)\n",
    "En order som utförs så nära som möjligt av marknadsstängningen.\n",
    "\n",
    "#### 3. Market-on-Open (MOO)\n",
    "En order som utförs så nära som möjligt av marknadsöppningen.\n",
    "\n",
    "#### 4. Fill-Or-Kill (FOK)\n",
    "En order som måste fyllas omedelbart och i sin helhet, annars avbryts den.\n",
    "\n",
    "#### 5. At-The-Open (ATO)\n",
    "En order som placeras i början av handelsdagen och utförs till det öppningspris som marknaden sätter.\n",
    "\n",
    "#### 6. At-The-Close (ATC)\n",
    "En order som placeras i slutet av handelsdagen och utförs till det stängningspris som marknaden sätter.\n",
    "\n",
    "#### 7. Stop Market Order\n",
    "En order som blir en marknadsorder när ett angivet stopppris nås.\n",
    "\n"
   ]
  }
 ],
 "metadata": {
  "language_info": {
   "name": "python"
  },
  "orig_nbformat": 4
 },
 "nbformat": 4,
 "nbformat_minor": 2
}
