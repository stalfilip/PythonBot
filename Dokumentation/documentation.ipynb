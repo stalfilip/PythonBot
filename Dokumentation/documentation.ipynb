{
 "cells": [
  {
   "cell_type": "markdown",
   "metadata": {},
   "source": [
    "# Dokumentation\n",
    "Här finns alla länkar till dokumentation till de API vi funderar på att använda.\n",
    "### IG\n",
    "Generellt: https://labs.ig.com/ <br>\n",
    "Streaming API: https://labs.ig.com/streaming-api-reference <br>\n",
    "Rest API: https://labs.ig.com/rest-trading-api-guide <br>\n",
    "\n",
    "### Nordet\n",
    "Generellt: https://www.nordnet.se/externalapi/docs/api\n"
   ]
  }
 ],
 "metadata": {
  "language_info": {
   "name": "python"
  },
  "orig_nbformat": 4
 },
 "nbformat": 4,
 "nbformat_minor": 2
}
